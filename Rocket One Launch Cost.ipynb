{
    "cells": [
        {
            "cell_type": "markdown",
            "metadata": {
                "collapsed": true
            },
            "source": "<h1>Capstone Project</h1>\n<hr style=\"border:2px solid #4568ea; line-height:4px\"></hr>\n<div style=\"padding:0px 10px 10px 10px; align:left; width:100%; color:#000000; border:3px solid #000000\">\n    <div style=\"text-align:left; width:100%; color:#4457ff\">\n        <h1>Week 1 - Data</h1></div>\n    <br><br><br>\n    <div style=\"text-align:center; width:100%\">\n            <h2>Predicting Restaurants Potential Frequentations</h2></div> \n    <br><br><br>\n    <div style=\"text-align:right; width:100%; color:#4457ff; margin-left:40px\">\n        <h4>Jean-Jacques Legault</h4></div>\n    <div style=\"text-align:right; width:100%; color:#4457ff; margin-left:40px\">\n        <h4>January 2022</h4></div>\n    <br>\n    <div style=\"text-align:left; width:100%\">\n        <h3>Applied Data Science - Capstone Project by IBM/Coursera</h3></div>\n</div>\n<hr style=\"border:2px solid #4568ea; line-height:4px\"></hr>"
        },
        {
            "cell_type": "markdown",
            "metadata": {},
            "source": "## Table of contents\n<hr style=\"border:2px solid #121212; line-height:4px\">\n<div>\n    <h3>Data</h3>\n    <ul>\n        <li>Description</li>\n        <li>Usage</li></ul>\n</div>"
        },
        {
            "cell_type": "markdown",
            "metadata": {},
            "source": "### Data <a name=\"data\"></a>\n<hr style=\"border:2px solid #4568ea; line-height:4px\"></hr>\n<h4>Description</h4><a name=\"Description\"></a>\n<hr style = \"size:0.5pt;border:0.5pt solid #000000;\">\n<p style=\"text-align:justify;\">Following the definition of the problem, my decision will be based on the following criteria's:\n    <ul>\n        <li>Neighborhoods surrounding <b>Montreal Downtown</b>;</li>\n        <li><b>Restaurants</b> within 5 km from, but at least 4 km away from Montreal Downtown center;</li>\n        <li><b>Distance</b> of each of those restaurants from the center;</li>\n        <li><b>Population</b> per 500 square meters;</li>\n        <li>Location of <b>Real Estate</b> area open to urban development within 1 square km of restaurant's location;</li>\n        <li>Numbers of <b>Transit</b> entities, boulevards, busses, metro stations and highways within 1 square km of restaurant's location.</li></ul>\n<p style=\"text-align:justify;\">\n    I will be using an area of 1 km, within the 4th and the 5th km radius from the center, to defined the location within neighborhoods.</p>"
        },
        {
            "cell_type": "markdown",
            "metadata": {},
            "source": "<div>\n    <h4>Usage</h4><a name=\"Usage\"></a>\n    <hr style = \"size:0.5pt;border:0.5pt solid #000000;\">\n    <p style=\"text-align:justify;\">Those data sources will be required to extract, generate and build the required information:</p>\n        <ul>\n            <li>Google Maps geocoding API will be used to get <b>Montreal Downtown</b> coordinates;</li>\n            <li><b>Restaurants</b> within 4 km of the <b>Montreal Downtown</b> center will be retrieved using the Google Maps geocoding API;</li>\n            <li>Still with the Google Maps geocoding API, I will retrieve all <b>Restaurants</b> within 5 km of the <b>Montreal Downtown</b> center;</li>\n            <li>A dataset containing the <b>**Working Restaurants Locations**</b> will be generated, using the results from the 4 and 5 km retrievals, and by removing the 4 km results location from the 5 km locations;</li>\n            <li>The <b>**Working Restaurants Locations**</b> dataset data will be used with Google Maps geocoding API to retrieve restaurants distances and update the <b>**Working Restaurants Locations**</b> dataset;</li>\n            <li><b>Population</b> per 500 square meters will be calculated using the <b>**Working Restaurants Locations**</b> dataset data and Foursquare API to obtain the figures and update the <b>**Working Restaurants Locations**</b> dataset;</li>\n            <li><b>Real Estate</b> development sites available within 1 square km will be retrieved using the <b>**Working Restaurants Locations**</b> dataset data, and Google Maps geocoding API to obtain the locations, if any, and update the <b>Working Restaurants Locations**</b> dataset;</li>\n            <li><b>Transit</b> (ease of access) will be defined using the <b>**Working Restaurants Locations**</b> dataset data, and Google Maps geocoding API to obtain transits entities within 1 square km, and create the <b>**Working Frequentation Potential's Locations**</b> dataset;</li></ul>\n    <p style=\"text-align:justify;\">The locations offering the most <b>Restaurants Frequentation's Potential</b> will be defined by using the <b>**Working Frequentation Potential's Locations**</b> dataset, from which, locations containing a medium to low numbers of restaurants, within which there are the highest number of inhabitants per 500 square meters, the most available Real Estate area open to urban development within 1 square km, and the highest number of transit's entities within that same 1 square km.</p></div>"
        }
    ],
    "metadata": {
        "kernelspec": {
            "display_name": "Python 3.8",
            "language": "python",
            "name": "python3"
        },
        "language_info": {
            "codemirror_mode": {
                "name": "ipython",
                "version": 3
            },
            "file_extension": ".py",
            "mimetype": "text/x-python",
            "name": "python",
            "nbconvert_exporter": "python",
            "pygments_lexer": "ipython3",
            "version": "3.8.12"
        }
    },
    "nbformat": 4,
    "nbformat_minor": 1
}